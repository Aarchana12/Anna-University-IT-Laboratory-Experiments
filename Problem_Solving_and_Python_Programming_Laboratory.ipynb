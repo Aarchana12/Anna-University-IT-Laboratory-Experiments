{
  "nbformat": 4,
  "nbformat_minor": 0,
  "metadata": {
    "colab": {
      "provenance": []
    },
    "kernelspec": {
      "name": "python3",
      "display_name": "Python 3"
    },
    "language_info": {
      "name": "python"
    }
  },
  "cells": [
    {
      "cell_type": "markdown",
      "source": [
        "Identification and solving of simple real life or scientific or technical problems, and developing flow charts for the same. (Electricity Billing, Retail shop billing, Sin series, weight of a motorbike, Weight of a steel bar, compute Electrical Current in Three Phase AC Circuit,\n",
        "etc.)"
      ],
      "metadata": {
        "id": "TL-clG3hGG0-"
      }
    },
    {
      "cell_type": "code",
      "execution_count": 2,
      "metadata": {
        "colab": {
          "base_uri": "https://localhost:8080/"
        },
        "id": "oOeg7Xj3FJGl",
        "outputId": "2c19f58d-5834-40b2-d0dc-820bbd8c6f2a"
      },
      "outputs": [
        {
          "output_type": "stream",
          "name": "stdout",
          "text": [
            "Enter units consumed: 20\n",
            "Total Electricity Bill: $2.4\n"
          ]
        }
      ],
      "source": [
        "def calculate_electricity_bill(units_consumed):\n",
        "    # Assume a simple rate for electricity\n",
        "    rate_per_unit = 0.12\n",
        "    total_bill = units_consumed * rate_per_unit\n",
        "    return total_bill\n",
        "\n",
        "# Example usage\n",
        "units_consumed = float(input(\"Enter units consumed: \"))\n",
        "total_bill = calculate_electricity_bill(units_consumed)\n",
        "print(f\"Total Electricity Bill: ${total_bill}\")"
      ]
    },
    {
      "cell_type": "code",
      "source": [
        "def calculate_retail_bill(items):\n",
        "    # Assuming a simple pricing for items\n",
        "    item_prices = {\"item1\": 10, \"item2\": 20, \"item3\": 15}\n",
        "\n",
        "    total_bill = sum(item_prices[item] * quantity for item, quantity in items.items())\n",
        "    return total_bill\n",
        "\n",
        "# Example usage\n",
        "items = {\"item1\": 2, \"item2\": 3, \"item3\": 1}\n",
        "total_bill = calculate_retail_bill(items)\n",
        "print(f\"Total Retail Bill: ${total_bill}\")"
      ],
      "metadata": {
        "colab": {
          "base_uri": "https://localhost:8080/"
        },
        "id": "t_a6mQnYFaBg",
        "outputId": "d2fef5f0-7d95-4d15-fc88-03c154a8f5a2"
      },
      "execution_count": 3,
      "outputs": [
        {
          "output_type": "stream",
          "name": "stdout",
          "text": [
            "Total Retail Bill: $95\n"
          ]
        }
      ]
    },
    {
      "cell_type": "code",
      "source": [
        "import math\n",
        "\n",
        "def compute_sin_series(x, n_terms):\n",
        "    # Compute sin(x) using Taylor series\n",
        "    result = 0\n",
        "    for i in range(n_terms):\n",
        "        term = ((-1) ** i) * (x ** (2 * i + 1)) / math.factorial(2 * i + 1)\n",
        "        result += term\n",
        "    return result\n",
        "\n",
        "# Example usage\n",
        "angle = float(input(\"Enter the angle in radians: \"))\n",
        "terms = int(input(\"Enter the number of terms: \"))\n",
        "sin_value = compute_sin_series(angle, terms)\n",
        "print(f\"sin({angle}) = {sin_value}\")"
      ],
      "metadata": {
        "colab": {
          "base_uri": "https://localhost:8080/"
        },
        "id": "-dw2cT0MFkf_",
        "outputId": "f861adac-322f-4ef9-a923-3b654385b9a6"
      },
      "execution_count": 4,
      "outputs": [
        {
          "output_type": "stream",
          "name": "stdout",
          "text": [
            "Enter the angle in radians: 2\n",
            "Enter the number of terms: 5\n",
            "sin(2.0) = 0.909347442680776\n"
          ]
        }
      ]
    },
    {
      "cell_type": "code",
      "source": [
        "def calculate_motorbike_weight(weight_frame, weight_engine):\n",
        "    total_weight = weight_frame + weight_engine\n",
        "    return total_weight\n",
        "\n",
        "# Example usage\n",
        "weight_frame = float(input(\"Enter the weight of the frame: \"))\n",
        "weight_engine = float(input(\"Enter the weight of the engine: \"))\n",
        "total_weight = calculate_motorbike_weight(weight_frame, weight_engine)\n",
        "print(f\"Total Weight of Motorbike: {total_weight} kg\")"
      ],
      "metadata": {
        "colab": {
          "base_uri": "https://localhost:8080/"
        },
        "id": "YpT8b5z3Fru5",
        "outputId": "8c07b40a-9001-4407-c71e-dfe72ce89d40"
      },
      "execution_count": 5,
      "outputs": [
        {
          "output_type": "stream",
          "name": "stdout",
          "text": [
            "Enter the weight of the frame: 440\n",
            "Enter the weight of the engine: 1060\n",
            "Total Weight of Motorbike: 1500.0 kg\n"
          ]
        }
      ]
    },
    {
      "cell_type": "code",
      "source": [
        "def calculate_steel_bar_weight(length, diameter):\n",
        "    # Assuming a simple density for steel\n",
        "    steel_density = 7.85  # in g/cm^3\n",
        "    volume = math.pi * (diameter / 2) ** 2 * length\n",
        "    weight = volume * steel_density / 1000  # Convert g to kg\n",
        "    return weight\n",
        "\n",
        "# Example usage\n",
        "length = float(input(\"Enter the length of the steel bar (cm): \"))\n",
        "diameter = float(input(\"Enter the diameter of the steel bar (cm): \"))\n",
        "steel_weight = calculate_steel_bar_weight(length, diameter)\n",
        "print(f\"Weight of Steel Bar: {steel_weight} kg\")"
      ],
      "metadata": {
        "colab": {
          "base_uri": "https://localhost:8080/"
        },
        "id": "AUgIe7YkFy-8",
        "outputId": "f2ef6efb-0281-41d2-a75c-ad14c62e03d3"
      },
      "execution_count": 6,
      "outputs": [
        {
          "output_type": "stream",
          "name": "stdout",
          "text": [
            "Enter the length of the steel bar (cm): 1230\n",
            "Enter the diameter of the steel bar (cm): 30\n",
            "Weight of Steel Bar: 6825.070770015655 kg\n"
          ]
        }
      ]
    },
    {
      "cell_type": "code",
      "source": [
        "def calculate_current(power, voltage, power_factor):\n",
        "    # Calculate current in a three-phase AC circuit\n",
        "    current = power / (math.sqrt(3) * voltage * power_factor)\n",
        "    return current\n",
        "\n",
        "# Example usage\n",
        "power = float(input(\"Enter power (W): \"))\n",
        "voltage = float(input(\"Enter voltage (V): \"))\n",
        "power_factor = float(input(\"Enter power factor: \"))\n",
        "current = calculate_current(power, voltage, power_factor)\n",
        "print(f\"Current in Three-Phase AC Circuit: {current} A\")"
      ],
      "metadata": {
        "colab": {
          "base_uri": "https://localhost:8080/"
        },
        "id": "nAUuxf87F5Ve",
        "outputId": "548bc14c-b266-448a-f5a4-92e5a8b4ce4e"
      },
      "execution_count": 7,
      "outputs": [
        {
          "output_type": "stream",
          "name": "stdout",
          "text": [
            "Enter power (W): 240\n",
            "Enter voltage (V): 1500\n",
            "Enter power factor: 20\n",
            "Current in Three-Phase AC Circuit: 0.0046188021535170055 A\n"
          ]
        }
      ]
    },
    {
      "cell_type": "markdown",
      "source": [
        "Python programming using simple statements and expressions (exchange the values of two variables, circulate the values of n variables, distance between two points)."
      ],
      "metadata": {
        "id": "Q06QyqajGSTd"
      }
    },
    {
      "cell_type": "code",
      "source": [
        "# Exchange the values of two variables\n",
        "a = 5\n",
        "b = 10\n",
        "\n",
        "print(\"Before swapping: a =\", a, \"b =\", b)\n",
        "\n",
        "# Using a temporary variable\n",
        "temp = a\n",
        "a = b\n",
        "b = temp\n",
        "\n",
        "print(\"After swapping: a =\", a, \"b =\", b)"
      ],
      "metadata": {
        "colab": {
          "base_uri": "https://localhost:8080/"
        },
        "id": "r4Sf74-6GWBa",
        "outputId": "0032034c-cc86-48da-eab8-c6315afbbad6"
      },
      "execution_count": 8,
      "outputs": [
        {
          "output_type": "stream",
          "name": "stdout",
          "text": [
            "Before swapping: a = 5 b = 10\n",
            "After swapping: a = 10 b = 5\n"
          ]
        }
      ]
    },
    {
      "cell_type": "code",
      "source": [
        "# Circulate the values of n variables\n",
        "var1 = 1\n",
        "var2 = 2\n",
        "var3 = 3\n",
        "\n",
        "print(\"Before circulation: var1 =\", var1, \"var2 =\", var2, \"var3 =\", var3)\n",
        "\n",
        "# Circulating values\n",
        "temp = var1\n",
        "var1 = var2\n",
        "var2 = var3\n",
        "var3 = temp\n",
        "\n",
        "print(\"After circulation: var1 =\", var1, \"var2 =\", var2, \"var3 =\", var3)"
      ],
      "metadata": {
        "colab": {
          "base_uri": "https://localhost:8080/"
        },
        "id": "CWL6znQvGcad",
        "outputId": "3a9c2d71-c673-4ea6-8fe9-8a9840f22f8a"
      },
      "execution_count": 9,
      "outputs": [
        {
          "output_type": "stream",
          "name": "stdout",
          "text": [
            "Before circulation: var1 = 1 var2 = 2 var3 = 3\n",
            "After circulation: var1 = 2 var2 = 3 var3 = 1\n"
          ]
        }
      ]
    },
    {
      "cell_type": "code",
      "source": [
        "# Calculate the distance between two points\n",
        "x1, y1 = 1, 2\n",
        "x2, y2 = 4, 6\n",
        "\n",
        "distance = ((x2 - x1) ** 2 + (y2 - y1) ** 2) ** 0.5\n",
        "\n",
        "print(f\"Distance between points ({x1}, {y1}) and ({x2}, {y2}): {distance}\")"
      ],
      "metadata": {
        "colab": {
          "base_uri": "https://localhost:8080/"
        },
        "id": "FGiqFrE0GeE3",
        "outputId": "1ef4c3b5-c39f-4521-88c1-2a15f498b383"
      },
      "execution_count": 10,
      "outputs": [
        {
          "output_type": "stream",
          "name": "stdout",
          "text": [
            "Distance between points (1, 2) and (4, 6): 5.0\n"
          ]
        }
      ]
    },
    {
      "cell_type": "markdown",
      "source": [
        "Scientific problems using Conditionals and Iterative loops. (Number series, Number Patterns, pyramid pattern)"
      ],
      "metadata": {
        "id": "31vAzNDhGn9F"
      }
    },
    {
      "cell_type": "code",
      "source": [
        "# Generate Fibonacci series up to n terms\n",
        "n = int(input(\"Enter the number of terms for Fibonacci series: \"))\n",
        "a, b = 0, 1\n",
        "\n",
        "print(\"Fibonacci Series:\")\n",
        "for _ in range(n):\n",
        "    print(a, end=\" \")\n",
        "    a, b = b, a + b"
      ],
      "metadata": {
        "colab": {
          "base_uri": "https://localhost:8080/"
        },
        "id": "AHWDN7ucGr32",
        "outputId": "2a76de14-4f95-47b0-c5f8-24a963e27f24"
      },
      "execution_count": 11,
      "outputs": [
        {
          "output_type": "stream",
          "name": "stdout",
          "text": [
            "Enter the number of terms for Fibonacci series: 20\n",
            "Fibonacci Series:\n",
            "0 1 1 2 3 5 8 13 21 34 55 89 144 233 377 610 987 1597 2584 4181 "
          ]
        }
      ]
    },
    {
      "cell_type": "code",
      "source": [
        "# Generate prime numbers up to a given limit\n",
        "limit = int(input(\"Enter the limit for prime numbers: \"))\n",
        "\n",
        "print(\"Prime Numbers:\")\n",
        "for num in range(2, limit + 1):\n",
        "    is_prime = True\n",
        "    for i in range(2, int(num ** 0.5) + 1):\n",
        "        if num % i == 0:\n",
        "            is_prime = False\n",
        "            break\n",
        "    if is_prime:\n",
        "        print(num, end=\" \")"
      ],
      "metadata": {
        "colab": {
          "base_uri": "https://localhost:8080/"
        },
        "id": "_S3VSip3Gyt-",
        "outputId": "25a83839-fa36-43e0-da84-0881b1991482"
      },
      "execution_count": 12,
      "outputs": [
        {
          "output_type": "stream",
          "name": "stdout",
          "text": [
            "Enter the limit for prime numbers: 20\n",
            "Prime Numbers:\n",
            "2 3 5 7 11 13 17 19 "
          ]
        }
      ]
    },
    {
      "cell_type": "code",
      "source": [
        "# Print a number triangle pattern\n",
        "rows = int(input(\"Enter the number of rows for the triangle: \"))\n",
        "\n",
        "print(\"Number Triangle:\")\n",
        "for i in range(1, rows + 1):\n",
        "    for j in range(1, i + 1):\n",
        "        print(j, end=\" \")\n",
        "    print()"
      ],
      "metadata": {
        "colab": {
          "base_uri": "https://localhost:8080/"
        },
        "id": "__p7z2gfG1Ol",
        "outputId": "be04b6e0-7439-42e3-b77a-8024685c6eaa"
      },
      "execution_count": 13,
      "outputs": [
        {
          "output_type": "stream",
          "name": "stdout",
          "text": [
            "Enter the number of rows for the triangle: 7\n",
            "Number Triangle:\n",
            "1 \n",
            "1 2 \n",
            "1 2 3 \n",
            "1 2 3 4 \n",
            "1 2 3 4 5 \n",
            "1 2 3 4 5 6 \n",
            "1 2 3 4 5 6 7 \n"
          ]
        }
      ]
    },
    {
      "cell_type": "code",
      "source": [
        "# Generate Pascal's Triangle\n",
        "def generate_pascals_triangle(rows):\n",
        "    triangle = [[1] * (i + 1) for i in range(rows)]\n",
        "\n",
        "    for i in range(2, rows):\n",
        "        for j in range(1, i):\n",
        "            triangle[i][j] = triangle[i - 1][j - 1] + triangle[i - 1][j]\n",
        "\n",
        "    return triangle\n",
        "\n",
        "rows = int(input(\"Enter the number of rows for Pascal's Triangle: \"))\n",
        "pascals_triangle = generate_pascals_triangle(rows)\n",
        "\n",
        "print(\"Pascal's Triangle:\")\n",
        "for row in pascals_triangle:\n",
        "    print(\" \".join(map(str, row)))"
      ],
      "metadata": {
        "colab": {
          "base_uri": "https://localhost:8080/"
        },
        "id": "hvvUqWB4G6Zv",
        "outputId": "22626d56-ebbb-4dbd-a975-c749f47f780e"
      },
      "execution_count": 14,
      "outputs": [
        {
          "output_type": "stream",
          "name": "stdout",
          "text": [
            "Enter the number of rows for Pascal's Triangle: 7\n",
            "Pascal's Triangle:\n",
            "1\n",
            "1 1\n",
            "1 2 1\n",
            "1 3 3 1\n",
            "1 4 6 4 1\n",
            "1 5 10 10 5 1\n",
            "1 6 15 20 15 6 1\n"
          ]
        }
      ]
    },
    {
      "cell_type": "code",
      "source": [
        "# Print a number pyramid pattern\n",
        "levels = int(input(\"Enter the number of levels for the pyramid: \"))\n",
        "\n",
        "print(\"Number Pyramid:\")\n",
        "for i in range(1, levels + 1):\n",
        "    print(\" \" * (levels - i) + \" \".join(map(str, range(1, i + 1))) + \" \".join(map(str, range(i - 1, 0, -1))))"
      ],
      "metadata": {
        "colab": {
          "base_uri": "https://localhost:8080/"
        },
        "id": "I_x5pESHG_Bj",
        "outputId": "bc7cc72d-bb57-40e5-fa91-99ca66fc2b0e"
      },
      "execution_count": 15,
      "outputs": [
        {
          "output_type": "stream",
          "name": "stdout",
          "text": [
            "Enter the number of levels for the pyramid: 7\n",
            "Number Pyramid:\n",
            "      1\n",
            "     1 21\n",
            "    1 2 32 1\n",
            "   1 2 3 43 2 1\n",
            "  1 2 3 4 54 3 2 1\n",
            " 1 2 3 4 5 65 4 3 2 1\n",
            "1 2 3 4 5 6 76 5 4 3 2 1\n"
          ]
        }
      ]
    },
    {
      "cell_type": "markdown",
      "source": [
        "Implementing real-time/technical applications using Lists, Tuples. (Items present in a library/Components of a car/ Materials required for construction of a building –operations of list & tuples)"
      ],
      "metadata": {
        "id": "UGeOu2UdHLhF"
      }
    },
    {
      "cell_type": "code",
      "source": [
        "# Library Inventory Management\n",
        "\n",
        "library_inventory = [\"Book1\", \"Book2\", \"Magazine1\", \"CD1\", \"DVD2\"]\n",
        "\n",
        "# Function to display all items in the library\n",
        "def display_library_inventory():\n",
        "    print(\"Library Inventory:\")\n",
        "    for item in library_inventory:\n",
        "        print(item)\n",
        "\n",
        "# Function to add a new item to the library\n",
        "def add_item_to_library(item):\n",
        "    library_inventory.append(item)\n",
        "    print(f\"{item} has been added to the library.\")\n",
        "\n",
        "# Function to remove an item from the library\n",
        "def remove_item_from_library(item):\n",
        "    if item in library_inventory:\n",
        "        library_inventory.remove(item)\n",
        "        print(f\"{item} has been removed from the library.\")\n",
        "    else:\n",
        "        print(f\"{item} is not present in the library.\")\n",
        "\n",
        "# Display initial inventory\n",
        "display_library_inventory()\n",
        "\n",
        "# Add a new book to the library\n",
        "add_item_to_library(\"Book3\")\n",
        "\n",
        "# Remove a magazine from the library\n",
        "remove_item_from_library(\"Magazine1\")\n",
        "\n",
        "# Display updated inventory\n",
        "display_library_inventory()"
      ],
      "metadata": {
        "colab": {
          "base_uri": "https://localhost:8080/"
        },
        "id": "rveq-4hRHHxn",
        "outputId": "1d023a5b-875d-4fd7-8284-8901583e0b50"
      },
      "execution_count": 16,
      "outputs": [
        {
          "output_type": "stream",
          "name": "stdout",
          "text": [
            "Library Inventory:\n",
            "Book1\n",
            "Book2\n",
            "Magazine1\n",
            "CD1\n",
            "DVD2\n",
            "Book3 has been added to the library.\n",
            "Magazine1 has been removed from the library.\n",
            "Library Inventory:\n",
            "Book1\n",
            "Book2\n",
            "CD1\n",
            "DVD2\n",
            "Book3\n"
          ]
        }
      ]
    },
    {
      "cell_type": "code",
      "source": [
        "# Car Components Information\n",
        "\n",
        "car_components = (\n",
        "    \"Engine\",\n",
        "    \"Transmission\",\n",
        "    \"Suspension System\",\n",
        "    \"Brake System\",\n",
        "    \"Electrical System\",\n",
        ")\n",
        "\n",
        "# Function to display all components of a car\n",
        "def display_car_components():\n",
        "    print(\"Car Components:\")\n",
        "    for component in car_components:\n",
        "        print(component)\n",
        "\n",
        "# Function to get information about a specific car component\n",
        "def get_component_info(component):\n",
        "    if component in car_components:\n",
        "        print(f\"Information about {component}: [Placeholder information]\")\n",
        "    else:\n",
        "        print(f\"{component} is not a valid car component.\")\n",
        "\n",
        "# Display initial car components\n",
        "display_car_components()\n",
        "\n",
        "# Get information about the Engine\n",
        "get_component_info(\"Engine\")\n",
        "\n",
        "# Get information about a non-existent component\n",
        "get_component_info(\"Tires\")"
      ],
      "metadata": {
        "colab": {
          "base_uri": "https://localhost:8080/"
        },
        "id": "_Qe4pD6aHV7p",
        "outputId": "95fd35b3-dd80-4d07-c927-e882c8ddf134"
      },
      "execution_count": 17,
      "outputs": [
        {
          "output_type": "stream",
          "name": "stdout",
          "text": [
            "Car Components:\n",
            "Engine\n",
            "Transmission\n",
            "Suspension System\n",
            "Brake System\n",
            "Electrical System\n",
            "Information about Engine: [Placeholder information]\n",
            "Tires is not a valid car component.\n"
          ]
        }
      ]
    },
    {
      "cell_type": "code",
      "source": [
        "# Building Construction Materials\n",
        "\n",
        "construction_materials = [\n",
        "    (\"Cement\", 1000),\n",
        "    (\"Bricks\", 5000),\n",
        "    (\"Steel Bars\", 200),\n",
        "    (\"Concrete Blocks\", 1000),\n",
        "]\n",
        "\n",
        "# Function to display all construction materials\n",
        "def display_construction_materials():\n",
        "    print(\"Construction Materials:\")\n",
        "    for material, quantity in construction_materials:\n",
        "        print(f\"{material}: {quantity} units\")\n",
        "\n",
        "# Function to update the quantity of a construction material\n",
        "def update_material_quantity(material, new_quantity):\n",
        "    for i, (m, _) in enumerate(construction_materials):\n",
        "        if m == material:\n",
        "            construction_materials[i] = (m, new_quantity)\n",
        "            print(f\"{material} quantity updated to {new_quantity} units.\")\n",
        "            return\n",
        "    print(f\"{material} is not present in the construction materials.\")\n",
        "\n",
        "# Display initial construction materials\n",
        "display_construction_materials()\n",
        "\n",
        "# Update the quantity of Cement\n",
        "update_material_quantity(\"Cement\", 1200)\n",
        "\n",
        "# Add a new material to the construction materials\n",
        "construction_materials.append((\"Glass\", 300))\n",
        "\n",
        "# Display updated construction materials\n",
        "display_construction_materials()"
      ],
      "metadata": {
        "colab": {
          "base_uri": "https://localhost:8080/"
        },
        "id": "yqj-oqJBHY9K",
        "outputId": "1db7d097-dc0b-4e78-fe4a-926537515b9d"
      },
      "execution_count": 18,
      "outputs": [
        {
          "output_type": "stream",
          "name": "stdout",
          "text": [
            "Construction Materials:\n",
            "Cement: 1000 units\n",
            "Bricks: 5000 units\n",
            "Steel Bars: 200 units\n",
            "Concrete Blocks: 1000 units\n",
            "Cement quantity updated to 1200 units.\n",
            "Construction Materials:\n",
            "Cement: 1200 units\n",
            "Bricks: 5000 units\n",
            "Steel Bars: 200 units\n",
            "Concrete Blocks: 1000 units\n",
            "Glass: 300 units\n"
          ]
        }
      ]
    },
    {
      "cell_type": "markdown",
      "source": [
        "Implementing real-time/technical applications using Sets, Dictionaries. (Language, components of an automobile, Elements of a civil structure, etc.- operations of Sets & Dictionaries)\n"
      ],
      "metadata": {
        "id": "HPAcnRtzHeZ1"
      }
    },
    {
      "cell_type": "code",
      "source": [
        "# Language Information Dictionary\n",
        "\n",
        "language_info = {\n",
        "    \"Python\": {\"Designed by\": \"Guido van Rossum\", \"Year\": 1991, \"Type\": \"High-level\"},\n",
        "    \"JavaScript\": {\"Designed by\": \"Brendan Eich\", \"Year\": 1995, \"Type\": \"Scripting\"},\n",
        "    \"Java\": {\"Designed by\": \"James Gosling\", \"Year\": 1995, \"Type\": \"Compiled\"},\n",
        "}\n",
        "\n",
        "# Function to display information about a programming language\n",
        "def display_language_info(language):\n",
        "    if language in language_info:\n",
        "        print(f\"Information about {language}:\")\n",
        "        for key, value in language_info[language].items():\n",
        "            print(f\"{key}: {value}\")\n",
        "    else:\n",
        "        print(f\"{language} is not present in the language information.\")\n",
        "\n",
        "# Function to add a new language to the dictionary\n",
        "def add_language_info(language, designer, year, language_type):\n",
        "    language_info[language] = {\"Designed by\": designer, \"Year\": year, \"Type\": language_type}\n",
        "    print(f\"{language} has been added to the language information.\")\n",
        "\n",
        "# Display information about Python\n",
        "display_language_info(\"Python\")\n",
        "\n",
        "# Add information about a new language\n",
        "add_language_info(\"Ruby\", \"Yukihiro Matsumoto\", 1995, \"Scripting\")\n",
        "\n",
        "# Display updated language information\n",
        "display_language_info(\"Ruby\")"
      ],
      "metadata": {
        "colab": {
          "base_uri": "https://localhost:8080/"
        },
        "id": "t3_B7uY4Ha7R",
        "outputId": "da064ead-823b-4957-af81-38b9633aec1d"
      },
      "execution_count": 19,
      "outputs": [
        {
          "output_type": "stream",
          "name": "stdout",
          "text": [
            "Information about Python:\n",
            "Designed by: Guido van Rossum\n",
            "Year: 1991\n",
            "Type: High-level\n",
            "Ruby has been added to the language information.\n",
            "Information about Ruby:\n",
            "Designed by: Yukihiro Matsumoto\n",
            "Year: 1995\n",
            "Type: Scripting\n"
          ]
        }
      ]
    },
    {
      "cell_type": "code",
      "source": [
        "# Components of an Automobile Set\n",
        "\n",
        "automobile_components = {\"Engine\", \"Transmission\", \"Suspension System\", \"Brake System\", \"Electrical System\"}\n",
        "\n",
        "# Function to display all components of an automobile\n",
        "def display_automobile_components():\n",
        "    print(\"Automobile Components:\")\n",
        "    for component in automobile_components:\n",
        "        print(component)\n",
        "\n",
        "# Function to add a new component to the set\n",
        "def add_component_to_automobile(component):\n",
        "    automobile_components.add(component)\n",
        "    print(f\"{component} has been added to the automobile components.\")\n",
        "\n",
        "# Function to remove a component from the set\n",
        "def remove_component_from_automobile(component):\n",
        "    if component in automobile_components:\n",
        "        automobile_components.remove(component)\n",
        "        print(f\"{component} has been removed from the automobile components.\")\n",
        "    else:\n",
        "        print(f\"{component} is not present in the automobile components.\")\n",
        "\n",
        "# Display initial automobile components\n",
        "display_automobile_components()\n",
        "\n",
        "# Add a new component to the set\n",
        "add_component_to_automobile(\"Air Conditioning System\")\n",
        "\n",
        "# Remove a component from the set\n",
        "remove_component_from_automobile(\"Suspension System\")\n",
        "\n",
        "# Display updated automobile components\n",
        "display_automobile_components()"
      ],
      "metadata": {
        "colab": {
          "base_uri": "https://localhost:8080/"
        },
        "id": "FXmY7mtUHs_4",
        "outputId": "dac76019-fa85-419a-b593-f1788f2008ec"
      },
      "execution_count": 20,
      "outputs": [
        {
          "output_type": "stream",
          "name": "stdout",
          "text": [
            "Automobile Components:\n",
            "Engine\n",
            "Electrical System\n",
            "Transmission\n",
            "Suspension System\n",
            "Brake System\n",
            "Air Conditioning System has been added to the automobile components.\n",
            "Suspension System has been removed from the automobile components.\n",
            "Automobile Components:\n",
            "Engine\n",
            "Electrical System\n",
            "Transmission\n",
            "Air Conditioning System\n",
            "Brake System\n"
          ]
        }
      ]
    },
    {
      "cell_type": "code",
      "source": [
        "# Elements of a Civil Structure Dictionary\n",
        "\n",
        "civil_structure_elements = {\n",
        "    \"Foundation\": {\"Material\": \"Concrete\", \"Depth\": \"10 meters\", \"Type\": \"Shallow\"},\n",
        "    \"Columns\": {\"Material\": \"Steel\", \"Height\": \"5 meters\", \"Type\": \"Reinforced\"},\n",
        "    \"Roof\": {\"Material\": \"Bricks\", \"Type\": \"Sloping\"},\n",
        "}\n",
        "\n",
        "# Function to display information about an element of a civil structure\n",
        "def display_civil_structure_element(element):\n",
        "    if element in civil_structure_elements:\n",
        "        print(f\"Information about {element}:\")\n",
        "        for key, value in civil_structure_elements[element].items():\n",
        "            print(f\"{key}: {value}\")\n",
        "    else:\n",
        "        print(f\"{element} is not present in the civil structure elements.\")\n",
        "\n",
        "# Function to update information about an element in the dictionary\n",
        "def update_civil_structure_element(element, attribute, new_value):\n",
        "    if element in civil_structure_elements and attribute in civil_structure_elements[element]:\n",
        "        civil_structure_elements[element][attribute] = new_value\n",
        "        print(f\"{attribute} of {element} updated to {new_value}.\")\n",
        "    else:\n",
        "        print(f\"{element} or {attribute} is not present in the civil structure elements.\")\n",
        "\n",
        "# Display information about the Foundation\n",
        "display_civil_structure_element(\"Foundation\")\n",
        "\n",
        "# Update the material of Columns\n",
        "update_civil_structure_element(\"Columns\", \"Material\", \"Concrete\")\n",
        "\n",
        "# Display updated information about Columns\n",
        "display_civil_structure_element(\"Columns\")"
      ],
      "metadata": {
        "colab": {
          "base_uri": "https://localhost:8080/"
        },
        "id": "rw2ms5fLHyZE",
        "outputId": "7f510aa6-cb59-40f8-d67e-46b49eda84e0"
      },
      "execution_count": 21,
      "outputs": [
        {
          "output_type": "stream",
          "name": "stdout",
          "text": [
            "Information about Foundation:\n",
            "Material: Concrete\n",
            "Depth: 10 meters\n",
            "Type: Shallow\n",
            "Material of Columns updated to Concrete.\n",
            "Information about Columns:\n",
            "Material: Concrete\n",
            "Height: 5 meters\n",
            "Type: Reinforced\n"
          ]
        }
      ]
    },
    {
      "cell_type": "markdown",
      "source": [
        "Implementing programs using Functions. (Factorial, largest number in a list, area of shape)"
      ],
      "metadata": {
        "id": "e1qWW2tgH4yD"
      }
    },
    {
      "cell_type": "code",
      "source": [
        "def calculate_factorial(n):\n",
        "    if n == 0 or n == 1:\n",
        "        return 1\n",
        "    else:\n",
        "        return n * calculate_factorial(n - 1)\n",
        "\n",
        "# Example usage\n",
        "number = int(input(\"Enter a number to calculate its factorial: \"))\n",
        "result = calculate_factorial(number)\n",
        "print(f\"The factorial of {number} is: {result}\")"
      ],
      "metadata": {
        "colab": {
          "base_uri": "https://localhost:8080/"
        },
        "id": "6PuXp33uH0Y3",
        "outputId": "d163bea2-53ba-4ca7-a3b9-ea00e3da75a3"
      },
      "execution_count": 22,
      "outputs": [
        {
          "output_type": "stream",
          "name": "stdout",
          "text": [
            "Enter a number to calculate its factorial: 14\n",
            "The factorial of 14 is: 87178291200\n"
          ]
        }
      ]
    },
    {
      "cell_type": "code",
      "source": [
        "def find_largest_number(numbers):\n",
        "    if not numbers:\n",
        "        return None  # Return None for an empty list\n",
        "\n",
        "    largest = numbers[0]\n",
        "    for num in numbers:\n",
        "        if num > largest:\n",
        "            largest = num\n",
        "    return largest\n",
        "\n",
        "# Example usage\n",
        "num_list = [5, 8, 2, 10, 3, 15, 7]\n",
        "largest_number = find_largest_number(num_list)\n",
        "print(f\"The largest number in the list is: {largest_number}\")"
      ],
      "metadata": {
        "colab": {
          "base_uri": "https://localhost:8080/"
        },
        "id": "iwBTwG7QIB1q",
        "outputId": "fe2ab796-8cdd-40e3-9b49-e7ff2c87cb88"
      },
      "execution_count": 23,
      "outputs": [
        {
          "output_type": "stream",
          "name": "stdout",
          "text": [
            "The largest number in the list is: 15\n"
          ]
        }
      ]
    },
    {
      "cell_type": "code",
      "source": [
        "import math\n",
        "\n",
        "def calculate_rectangle_area(length, width):\n",
        "    return length * width\n",
        "\n",
        "def calculate_circle_area(radius):\n",
        "    return math.pi * radius**2\n",
        "\n",
        "# Example usage\n",
        "shape = input(\"Enter the shape (rectangle/circle): \").lower()\n",
        "\n",
        "if shape == \"rectangle\":\n",
        "    length = float(input(\"Enter the length of the rectangle: \"))\n",
        "    width = float(input(\"Enter the width of the rectangle: \"))\n",
        "    area = calculate_rectangle_area(length, width)\n",
        "    print(f\"The area of the rectangle is: {area}\")\n",
        "elif shape == \"circle\":\n",
        "    radius = float(input(\"Enter the radius of the circle: \"))\n",
        "    area = calculate_circle_area(radius)\n",
        "    print(f\"The area of the circle is: {area}\")\n",
        "else:\n",
        "    print(\"Invalid shape. Please enter either 'rectangle' or 'circle'.\")"
      ],
      "metadata": {
        "colab": {
          "base_uri": "https://localhost:8080/"
        },
        "id": "r1NNpV0rIFbV",
        "outputId": "661bd5ca-c90a-497e-ca6f-e52c6494ed77"
      },
      "execution_count": 24,
      "outputs": [
        {
          "output_type": "stream",
          "name": "stdout",
          "text": [
            "Enter the shape (rectangle/circle): CIRCLE\n",
            "Enter the radius of the circle: 5\n",
            "The area of the circle is: 78.53981633974483\n"
          ]
        }
      ]
    },
    {
      "cell_type": "markdown",
      "source": [
        "Implementing programs using Strings. (reverse, palindrome, character count, replacing characters)"
      ],
      "metadata": {
        "id": "DI8YRyBuIMtG"
      }
    },
    {
      "cell_type": "code",
      "source": [
        "def reverse_string(input_str):\n",
        "    return input_str[::-1]\n",
        "\n",
        "# Example usage\n",
        "original_string = input(\"Enter a string: \")\n",
        "reversed_string = reverse_string(original_string)\n",
        "print(f\"The reversed string is: {reversed_string}\")"
      ],
      "metadata": {
        "colab": {
          "base_uri": "https://localhost:8080/"
        },
        "id": "5GhdU-JiISFW",
        "outputId": "e6ce9694-9f57-4241-d1e7-eb99d2bd9215"
      },
      "execution_count": 25,
      "outputs": [
        {
          "output_type": "stream",
          "name": "stdout",
          "text": [
            "Enter a string: aarchana\n",
            "The reversed string is: anahcraa\n"
          ]
        }
      ]
    },
    {
      "cell_type": "code",
      "source": [
        "def is_palindrome(input_str):\n",
        "    cleaned_str = ''.join(char.lower() for char in input_str if char.isalnum())\n",
        "    return cleaned_str == cleaned_str[::-1]\n",
        "\n",
        "# Example usage\n",
        "word = input(\"Enter a word to check if it's a palindrome: \")\n",
        "if is_palindrome(word):\n",
        "    print(f\"{word} is a palindrome.\")\n",
        "else:\n",
        "    print(f\"{word} is not a palindrome.\")"
      ],
      "metadata": {
        "colab": {
          "base_uri": "https://localhost:8080/"
        },
        "id": "8-fJDiSdIpA5",
        "outputId": "9fe5ad20-7670-41c2-b675-6ffea55cbdcb"
      },
      "execution_count": 26,
      "outputs": [
        {
          "output_type": "stream",
          "name": "stdout",
          "text": [
            "Enter a word to check if it's a palindrome: malayalam\n",
            "malayalam is a palindrome.\n"
          ]
        }
      ]
    },
    {
      "cell_type": "code",
      "source": [
        "def count_characters(input_str):\n",
        "    char_count = {}\n",
        "    for char in input_str:\n",
        "        if char.isalpha():\n",
        "            char_count[char] = char_count.get(char, 0) + 1\n",
        "    return char_count\n",
        "\n",
        "# Example usage\n",
        "sentence = input(\"Enter a sentence: \")\n",
        "character_count = count_characters(sentence)\n",
        "print(\"Character count:\")\n",
        "for char, count in character_count.items():\n",
        "    print(f\"{char}: {count}\")"
      ],
      "metadata": {
        "colab": {
          "base_uri": "https://localhost:8080/"
        },
        "id": "luknErHeI6qX",
        "outputId": "9330f678-06a2-4a0a-d70d-55a4a5cc34dd"
      },
      "execution_count": 27,
      "outputs": [
        {
          "output_type": "stream",
          "name": "stdout",
          "text": [
            "Enter a sentence: hi this is a python tutorial\n",
            "Character count:\n",
            "h: 3\n",
            "i: 4\n",
            "t: 4\n",
            "s: 2\n",
            "a: 2\n",
            "p: 1\n",
            "y: 1\n",
            "o: 2\n",
            "n: 1\n",
            "u: 1\n",
            "r: 1\n",
            "l: 1\n"
          ]
        }
      ]
    },
    {
      "cell_type": "code",
      "source": [
        "def replace_characters(input_str, old_char, new_char):\n",
        "    return input_str.replace(old_char, new_char)\n",
        "\n",
        "# Example usage\n",
        "original_text = input(\"Enter some text: \")\n",
        "char_to_replace = input(\"Enter the character to replace: \")\n",
        "replacement_char = input(\"Enter the replacement character: \")\n",
        "modified_text = replace_characters(original_text, char_to_replace, replacement_char)\n",
        "print(f\"Modified text: {modified_text}\")"
      ],
      "metadata": {
        "colab": {
          "base_uri": "https://localhost:8080/"
        },
        "id": "4DBlsgfUJCZj",
        "outputId": "8fc94ee1-997c-4106-80c4-3c3a5ef3c4df"
      },
      "execution_count": 30,
      "outputs": [
        {
          "output_type": "stream",
          "name": "stdout",
          "text": [
            "Enter some text: he this is a python tutorial\n",
            "Enter the character to replace: e\n",
            "Enter the replacement character: i\n",
            "Modified text: hi this is a python tutorial\n"
          ]
        }
      ]
    },
    {
      "cell_type": "markdown",
      "source": [
        "Implementing programs using written modules and Python Standard Libraries (pandas, numpy. Matplotlib, scipy)"
      ],
      "metadata": {
        "id": "lDzH5cprJvoL"
      }
    },
    {
      "cell_type": "code",
      "source": [
        "pip install pandas numpy matplotlib"
      ],
      "metadata": {
        "colab": {
          "base_uri": "https://localhost:8080/"
        },
        "id": "lxWPONeGJhCg",
        "outputId": "68a317a7-6644-4992-c75f-133a3b9ff88f"
      },
      "execution_count": 31,
      "outputs": [
        {
          "output_type": "stream",
          "name": "stdout",
          "text": [
            "Requirement already satisfied: pandas in /usr/local/lib/python3.10/dist-packages (1.5.3)\n",
            "Requirement already satisfied: numpy in /usr/local/lib/python3.10/dist-packages (1.23.5)\n",
            "Requirement already satisfied: matplotlib in /usr/local/lib/python3.10/dist-packages (3.7.1)\n",
            "Requirement already satisfied: python-dateutil>=2.8.1 in /usr/local/lib/python3.10/dist-packages (from pandas) (2.8.2)\n",
            "Requirement already satisfied: pytz>=2020.1 in /usr/local/lib/python3.10/dist-packages (from pandas) (2023.3.post1)\n",
            "Requirement already satisfied: contourpy>=1.0.1 in /usr/local/lib/python3.10/dist-packages (from matplotlib) (1.2.0)\n",
            "Requirement already satisfied: cycler>=0.10 in /usr/local/lib/python3.10/dist-packages (from matplotlib) (0.12.1)\n",
            "Requirement already satisfied: fonttools>=4.22.0 in /usr/local/lib/python3.10/dist-packages (from matplotlib) (4.45.1)\n",
            "Requirement already satisfied: kiwisolver>=1.0.1 in /usr/local/lib/python3.10/dist-packages (from matplotlib) (1.4.5)\n",
            "Requirement already satisfied: packaging>=20.0 in /usr/local/lib/python3.10/dist-packages (from matplotlib) (23.2)\n",
            "Requirement already satisfied: pillow>=6.2.0 in /usr/local/lib/python3.10/dist-packages (from matplotlib) (9.4.0)\n",
            "Requirement already satisfied: pyparsing>=2.3.1 in /usr/local/lib/python3.10/dist-packages (from matplotlib) (3.1.1)\n",
            "Requirement already satisfied: six>=1.5 in /usr/local/lib/python3.10/dist-packages (from python-dateutil>=2.8.1->pandas) (1.16.0)\n"
          ]
        }
      ]
    },
    {
      "cell_type": "code",
      "source": [
        "import pandas as pd\n",
        "\n",
        "# Read a CSV file into a pandas DataFrame\n",
        "data = pd.read_csv('/content/sample_data/california_housing_test.csv')\n",
        "\n",
        "# Display the DataFrame\n",
        "print(\"Data from CSV file:\")\n",
        "print(data)"
      ],
      "metadata": {
        "colab": {
          "base_uri": "https://localhost:8080/"
        },
        "id": "WeSckMfQJ1Y3",
        "outputId": "fa5df7a3-ad1b-4b1b-f7c2-e5f063c0d6fe"
      },
      "execution_count": 33,
      "outputs": [
        {
          "output_type": "stream",
          "name": "stdout",
          "text": [
            "Data from CSV file:\n",
            "      longitude  latitude  housing_median_age  total_rooms  total_bedrooms  \\\n",
            "0       -122.05     37.37                27.0       3885.0           661.0   \n",
            "1       -118.30     34.26                43.0       1510.0           310.0   \n",
            "2       -117.81     33.78                27.0       3589.0           507.0   \n",
            "3       -118.36     33.82                28.0         67.0            15.0   \n",
            "4       -119.67     36.33                19.0       1241.0           244.0   \n",
            "...         ...       ...                 ...          ...             ...   \n",
            "2995    -119.86     34.42                23.0       1450.0           642.0   \n",
            "2996    -118.14     34.06                27.0       5257.0          1082.0   \n",
            "2997    -119.70     36.30                10.0        956.0           201.0   \n",
            "2998    -117.12     34.10                40.0         96.0            14.0   \n",
            "2999    -119.63     34.42                42.0       1765.0           263.0   \n",
            "\n",
            "      population  households  median_income  median_house_value  \n",
            "0         1537.0       606.0         6.6085            344700.0  \n",
            "1          809.0       277.0         3.5990            176500.0  \n",
            "2         1484.0       495.0         5.7934            270500.0  \n",
            "3           49.0        11.0         6.1359            330000.0  \n",
            "4          850.0       237.0         2.9375             81700.0  \n",
            "...          ...         ...            ...                 ...  \n",
            "2995      1258.0       607.0         1.1790            225000.0  \n",
            "2996      3496.0      1036.0         3.3906            237200.0  \n",
            "2997       693.0       220.0         2.2895             62000.0  \n",
            "2998        46.0        14.0         3.2708            162500.0  \n",
            "2999       753.0       260.0         8.5608            500001.0  \n",
            "\n",
            "[3000 rows x 9 columns]\n"
          ]
        }
      ]
    },
    {
      "cell_type": "code",
      "source": [
        "import numpy as np\n",
        "\n",
        "# Create a NumPy array\n",
        "data_array = np.array([2, 4, 6, 8, 10])\n",
        "\n",
        "# Calculate mean and standard deviation\n",
        "mean_value = np.mean(data_array)\n",
        "std_deviation = np.std(data_array)\n",
        "\n",
        "print(f\"Mean: {mean_value}\")\n",
        "print(f\"Standard Deviation: {std_deviation}\")"
      ],
      "metadata": {
        "colab": {
          "base_uri": "https://localhost:8080/"
        },
        "id": "1u1ZpXdVKApx",
        "outputId": "1648b82d-78f8-44a2-adcd-3fbaa698bb12"
      },
      "execution_count": 34,
      "outputs": [
        {
          "output_type": "stream",
          "name": "stdout",
          "text": [
            "Mean: 6.0\n",
            "Standard Deviation: 2.8284271247461903\n"
          ]
        }
      ]
    },
    {
      "cell_type": "code",
      "source": [
        "import matplotlib.pyplot as plt\n",
        "\n",
        "# Create data for plotting\n",
        "x = [1, 2, 3, 4, 5]\n",
        "y = [2, 4, 6, 8, 10]\n",
        "\n",
        "# Plot the data\n",
        "plt.plot(x, y)\n",
        "plt.xlabel('X-axis')\n",
        "plt.ylabel('Y-axis')\n",
        "plt.title('Simple Plot')\n",
        "plt.show()"
      ],
      "metadata": {
        "colab": {
          "base_uri": "https://localhost:8080/",
          "height": 472
        },
        "id": "MdeRJBLvjPhJ",
        "outputId": "8f09c684-3111-45f8-c7ae-c2715ba9bd6e"
      },
      "execution_count": 35,
      "outputs": [
        {
          "output_type": "display_data",
          "data": {
            "text/plain": [
              "<Figure size 640x480 with 1 Axes>"
            ],
            "image/png": "[encoded data removed]"
          },
          "metadata": {}
        }
      ]
    },
    {
      "cell_type": "code",
      "source": [
        "from scipy.linalg import solve\n",
        "\n",
        "# Coefficients of the linear equations\n",
        "coefficients = np.array([[2, 1], [1, -3]])\n",
        "constants = np.array([8, 1])\n",
        "\n",
        "# Solve the system of linear equations\n",
        "solution = solve(coefficients, constants)\n",
        "\n",
        "print(f\"The solution to the system of equations is: {solution}\")"
      ],
      "metadata": {
        "colab": {
          "base_uri": "https://localhost:8080/"
        },
        "id": "_MoBvUSSjWna",
        "outputId": "324b05a7-54b9-476c-a68a-791285140311"
      },
      "execution_count": 36,
      "outputs": [
        {
          "output_type": "stream",
          "name": "stdout",
          "text": [
            "The solution to the system of equations is: [3.57142857 0.85714286]\n"
          ]
        }
      ]
    },
    {
      "cell_type": "markdown",
      "source": [
        "Implementing real-time/technical applications using File handling. (copy from one file to another, word count, longest word)\n"
      ],
      "metadata": {
        "id": "SYScEkcyjhce"
      }
    },
    {
      "cell_type": "code",
      "source": [
        "def copy_file(source_file, destination_file):\n",
        "    try:\n",
        "        with open(source_file, 'w') as source:\n",
        "            source.write(\"This is the content of the source file.\")\n",
        "\n",
        "        with open(source_file, 'r') as source, open(destination_file, 'w') as destination:\n",
        "            content = source.read()\n",
        "            destination.write(content)\n",
        "\n",
        "        print(f\"Content copied from {source_file} to {destination_file} successfully.\")\n",
        "    except Exception as e:\n",
        "        print(f\"Error: {e}\")\n",
        "\n",
        "# Example usage\n",
        "source_file_name = 'source.txt'\n",
        "destination_file_name = 'destination.txt'\n",
        "copy_file(source_file_name, destination_file_name)"
      ],
      "metadata": {
        "colab": {
          "base_uri": "https://localhost:8080/"
        },
        "id": "hpomXaIkjgrq",
        "outputId": "d7dd965d-1090-401e-a89c-c3774245288c"
      },
      "execution_count": 38,
      "outputs": [
        {
          "output_type": "stream",
          "name": "stdout",
          "text": [
            "Content copied from source.txt to destination.txt successfully.\n"
          ]
        }
      ]
    },
    {
      "cell_type": "code",
      "source": [
        "def count_words(file_name):\n",
        "    try:\n",
        "        with open(file_name, 'w') as file:\n",
        "            file.write(\"This is a sample sentence for word count.\")\n",
        "\n",
        "        with open(file_name, 'r') as file:\n",
        "            content = file.read()\n",
        "            words = content.split()\n",
        "        return len(words)\n",
        "    except Exception as e:\n",
        "        print(f\"Error: {e}\")\n",
        "        return 0\n",
        "\n",
        "# Example usage\n",
        "file_to_count = 'sample_text.txt'\n",
        "word_count = count_words(file_to_count)\n",
        "print(f\"Word count in {file_to_count}: {word_count}\")"
      ],
      "metadata": {
        "colab": {
          "base_uri": "https://localhost:8080/"
        },
        "id": "y961BKLhkOEJ",
        "outputId": "b1be8085-1235-40e3-a7b0-457fda3ec4c3"
      },
      "execution_count": 39,
      "outputs": [
        {
          "output_type": "stream",
          "name": "stdout",
          "text": [
            "Word count in sample_text.txt: 8\n"
          ]
        }
      ]
    },
    {
      "cell_type": "code",
      "source": [
        "def find_longest_word(file_name):\n",
        "    try:\n",
        "        with open(file_name, 'w') as file:\n",
        "            file.write(\"This is an example to find the longest word in a file.\")\n",
        "\n",
        "        with open(file_name, 'r') as file:\n",
        "            content = file.read()\n",
        "            words = content.split()\n",
        "        return max(words, key=len)\n",
        "    except Exception as e:\n",
        "        print(f\"Error: {e}\")\n",
        "        return None\n",
        "\n",
        "# Example usage\n",
        "file_to_check = 'sample_text.txt'\n",
        "longest_word = find_longest_word(file_to_check)\n",
        "if longest_word:\n",
        "    print(f\"The longest word in {file_to_check} is: {longest_word}\")\n",
        "else:\n",
        "    print(\"Could not find the longest word.\")"
      ],
      "metadata": {
        "colab": {
          "base_uri": "https://localhost:8080/"
        },
        "id": "gGHVIxqxkWRe",
        "outputId": "b77e9189-169b-4943-8eba-d8752c2d904e"
      },
      "execution_count": 40,
      "outputs": [
        {
          "output_type": "stream",
          "name": "stdout",
          "text": [
            "The longest word in sample_text.txt is: example\n"
          ]
        }
      ]
    },
    {
      "cell_type": "markdown",
      "source": [
        "Implementing real-time/technical applications using Exception handling. (divide by zero error, voter’s age validity, student mark range validation)"
      ],
      "metadata": {
        "id": "1_09A15DkZ6n"
      }
    },
    {
      "cell_type": "code",
      "source": [
        "def divide_numbers(a, b):\n",
        "    try:\n",
        "        result = a / b\n",
        "        return result\n",
        "    except ZeroDivisionError:\n",
        "        print(\"Error: Cannot divide by zero.\")\n",
        "        return None\n",
        "\n",
        "# Example usage\n",
        "numerator = 10\n",
        "denominator = 0\n",
        "result = divide_numbers(numerator, denominator)\n",
        "\n",
        "if result is not None:\n",
        "    print(f\"{numerator} divided by {denominator} is: {result}\")\n",
        "else:\n",
        "    print(\"Error occurred.\")"
      ],
      "metadata": {
        "colab": {
          "base_uri": "https://localhost:8080/"
        },
        "id": "jHTgdsCskiW5",
        "outputId": "e4b5f63a-a067-4d95-a4e4-a4ebfba8d284"
      },
      "execution_count": 41,
      "outputs": [
        {
          "output_type": "stream",
          "name": "stdout",
          "text": [
            "Error: Cannot divide by zero.\n",
            "Error occurred.\n"
          ]
        }
      ]
    },
    {
      "cell_type": "code",
      "source": [
        "def check_voter_age(age):\n",
        "    try:\n",
        "        if age < 18:\n",
        "            raise ValueError(\"Invalid Age: Voters must be at least 18 years old.\")\n",
        "        else:\n",
        "            print(\"Voter age is valid.\")\n",
        "    except ValueError as e:\n",
        "        print(f\"Error: {e}\")\n",
        "\n",
        "# Example usage\n",
        "voter_age = int(input(\"Enter the voter's age: \"))\n",
        "check_voter_age(voter_age)"
      ],
      "metadata": {
        "colab": {
          "base_uri": "https://localhost:8080/"
        },
        "id": "ghWchoDPkmlt",
        "outputId": "46a74783-bef9-4e45-ed24-c83ab90b7864"
      },
      "execution_count": 42,
      "outputs": [
        {
          "output_type": "stream",
          "name": "stdout",
          "text": [
            "Enter the voter's age: 19\n",
            "Voter age is valid.\n"
          ]
        }
      ]
    },
    {
      "cell_type": "code",
      "source": [
        "def validate_student_marks(marks):\n",
        "    try:\n",
        "        if not (0 <= marks <= 100):\n",
        "            raise ValueError(\"Invalid Marks: Marks must be between 0 and 100.\")\n",
        "        else:\n",
        "            print(\"Student marks are valid.\")\n",
        "    except ValueError as e:\n",
        "        print(f\"Error: {e}\")\n",
        "\n",
        "# Example usage\n",
        "student_marks = float(input(\"Enter the student's marks: \"))\n",
        "validate_student_marks(student_marks)"
      ],
      "metadata": {
        "colab": {
          "base_uri": "https://localhost:8080/"
        },
        "id": "v3J53tt-kpYm",
        "outputId": "19bce0f1-5639-4ce5-ddeb-735345a77f7e"
      },
      "execution_count": 43,
      "outputs": [
        {
          "output_type": "stream",
          "name": "stdout",
          "text": [
            "Enter the student's marks: 98\n",
            "Student marks are valid.\n"
          ]
        }
      ]
    },
    {
      "cell_type": "markdown",
      "source": [
        " Exploring Pygame tool"
      ],
      "metadata": {
        "id": "13gZI7Z1kv8g"
      }
    },
    {
      "cell_type": "code",
      "source": [
        "import pygame\n",
        "import sys\n",
        "\n",
        "# Initialize Pygame\n",
        "pygame.init()\n",
        "\n",
        "# Set up the display\n",
        "width, height = 800, 600\n",
        "screen = pygame.display.set_mode((width, height))\n",
        "pygame.display.set_caption(\"Simple Pygame Example\")\n",
        "\n",
        "# Set up colors\n",
        "black = (0, 0, 0)\n",
        "white = (255, 255, 255)\n",
        "\n",
        "# Set up the player\n",
        "player_size = 50\n",
        "player_x = width // 2 - player_size // 2\n",
        "player_y = height - 2 * player_size\n",
        "player_speed = 5\n",
        "\n",
        "# Main game loop\n",
        "while True:\n",
        "    for event in pygame.event.get():\n",
        "        if event.type == pygame.QUIT:\n",
        "            pygame.quit()\n",
        "            sys.exit()\n",
        "\n",
        "    # Get the keys that are currently pressed\n",
        "    keys = pygame.key.get_pressed()\n",
        "\n",
        "    # Move the player based on the keys\n",
        "    if keys[pygame.K_LEFT] and player_x > 0:\n",
        "        player_x -= player_speed\n",
        "    if keys[pygame.K_RIGHT] and player_x < width - player_size:\n",
        "        player_x += player_speed\n",
        "\n",
        "    # Update the display\n",
        "    screen.fill(black)\n",
        "    pygame.draw.rect(screen, white, (player_x, player_y, player_size, player_size))\n",
        "\n",
        "    pygame.display.flip()\n",
        "\n",
        "    # Cap the frame rate\n",
        "    pygame.time.Clock().tick(60)"
      ],
      "metadata": {
        "colab": {
          "base_uri": "https://localhost:8080/",
          "height": 245
        },
        "id": "3v6fzJ6uk6VO",
        "outputId": "dd7926d6-b12b-4c23-cad4-f90cb0419f68"
      },
      "execution_count": 45,
      "outputs": [
        {
          "output_type": "error",
          "ename": "KeyboardInterrupt",
          "evalue": "ignored",
          "traceback": [
            "\u001b[0;31m---------------------------------------------------------------------------\u001b[0m",
            "\u001b[0;31mKeyboardInterrupt\u001b[0m                         Traceback (most recent call last)",
            "\u001b[0;32m<ipython-input-45-3553ecee28ef>\u001b[0m in \u001b[0;36m<cell line: 23>\u001b[0;34m()\u001b[0m\n\u001b[1;32m     40\u001b[0m     \u001b[0mpygame\u001b[0m\u001b[0;34m.\u001b[0m\u001b[0mdraw\u001b[0m\u001b[0;34m.\u001b[0m\u001b[0mrect\u001b[0m\u001b[0;34m(\u001b[0m\u001b[0mscreen\u001b[0m\u001b[0;34m,\u001b[0m \u001b[0mwhite\u001b[0m\u001b[0;34m,\u001b[0m \u001b[0;34m(\u001b[0m\u001b[0mplayer_x\u001b[0m\u001b[0;34m,\u001b[0m \u001b[0mplayer_y\u001b[0m\u001b[0;34m,\u001b[0m \u001b[0mplayer_size\u001b[0m\u001b[0;34m,\u001b[0m \u001b[0mplayer_size\u001b[0m\u001b[0;34m)\u001b[0m\u001b[0;34m)\u001b[0m\u001b[0;34m\u001b[0m\u001b[0;34m\u001b[0m\u001b[0m\n\u001b[1;32m     41\u001b[0m \u001b[0;34m\u001b[0m\u001b[0m\n\u001b[0;32m---> 42\u001b[0;31m     \u001b[0mpygame\u001b[0m\u001b[0;34m.\u001b[0m\u001b[0mdisplay\u001b[0m\u001b[0;34m.\u001b[0m\u001b[0mflip\u001b[0m\u001b[0;34m(\u001b[0m\u001b[0;34m)\u001b[0m\u001b[0;34m\u001b[0m\u001b[0;34m\u001b[0m\u001b[0m\n\u001b[0m\u001b[1;32m     43\u001b[0m \u001b[0;34m\u001b[0m\u001b[0m\n\u001b[1;32m     44\u001b[0m     \u001b[0;31m# Cap the frame rate\u001b[0m\u001b[0;34m\u001b[0m\u001b[0;34m\u001b[0m\u001b[0m\n",
            "\u001b[0;31mKeyboardInterrupt\u001b[0m: "
          ]
        }
      ]
    },
    {
      "cell_type": "code",
      "source": [
        "import pygame\n",
        "import sys\n",
        "import random\n",
        "\n",
        "# Initialize Pygame\n",
        "pygame.init()\n",
        "\n",
        "# Set up the display\n",
        "width, height = 600, 800\n",
        "screen = pygame.display.set_mode((width, height))\n",
        "pygame.display.set_caption(\"Car Racing Game\")\n",
        "\n",
        "# Set up colors\n",
        "black = (0, 0, 0)\n",
        "white = (255, 255, 255)\n",
        "red = (255, 0, 0)\n",
        "\n",
        "# Set up other cars\n",
        "other_cars = []\n",
        "other_car_speed = 5\n",
        "other_car_width = 50\n",
        "other_car_height = 100\n",
        "\n",
        "# Set up the font\n",
        "font = pygame.font.Font(None, 36)\n",
        "\n",
        "# Set up the player's car\n",
        "car_width = 50\n",
        "car_height = 100\n",
        "car_x = width // 2 - car_width // 2\n",
        "car_y = height - car_height - 20\n",
        "car_speed = 10\n",
        "\n",
        "# Main game loop\n",
        "score = 0\n",
        "clock = pygame.time.Clock()\n",
        "\n",
        "while True:\n",
        "    for event in pygame.event.get():\n",
        "        if event.type == pygame.QUIT:\n",
        "            pygame.quit()\n",
        "            sys.exit()\n",
        "\n",
        "    keys = pygame.key.get_pressed()\n",
        "\n",
        "    # Move the player's car\n",
        "    if keys[pygame.K_LEFT] and car_x > 0:\n",
        "        car_x -= car_speed\n",
        "    if keys[pygame.K_RIGHT] and car_x < width - car_width:\n",
        "        car_x += car_speed\n",
        "\n",
        "    # Move other cars down the screen\n",
        "    for car in other_cars:\n",
        "        car[1] += other_car_speed\n",
        "\n",
        "        # Check for collision with the player's car\n",
        "        if (\n",
        "            car_x < car[0] + other_car_width\n",
        "            and car_x + car_width > car[0]\n",
        "            and car_y < car[1] + other_car_height\n",
        "            and car_y + car_height > car[1]\n",
        "        ):\n",
        "            print(\"Game Over!\")\n",
        "            pygame.quit()\n",
        "            sys.exit()\n",
        "\n",
        "        # Remove cars that go off the bottom of the screen\n",
        "        if car[1] > height:\n",
        "            other_cars.remove(car)\n",
        "            score += 1\n",
        "\n",
        "    # Generate a new car randomly\n",
        "    if random.randint(0, 100) < 5:\n",
        "        new_car_x = random.randint(0, width - other_car_width)\n",
        "        new_car_y = 0 - other_car_height\n",
        "        other_cars.append([new_car_x, new_car_y, other_car_width, other_car_height])\n",
        "\n",
        "    # Update the display\n",
        "    screen.fill(black)\n",
        "\n",
        "    # Draw the player's car\n",
        "    pygame.draw.rect(screen, red, (car_x, car_y, car_width, car_height))\n",
        "\n",
        "    # Draw other cars\n",
        "    for car in other_cars:\n",
        "        pygame.draw.rect(screen, white, car)\n",
        "\n",
        "    # Display the score\n",
        "    score_text = font.render(f\"Score: {score}\", True, white)\n",
        "    screen.blit(score_text, (10, 10))\n",
        "\n",
        "    pygame.display.flip()\n",
        "\n",
        "    # Cap the frame rate\n",
        "    clock.tick(30)"
      ],
      "metadata": {
        "colab": {
          "base_uri": "https://localhost:8080/",
          "height": 195
        },
        "id": "fmSON5UvrVHD",
        "outputId": "93758bcc-6995-460d-d39a-225f27797438"
      },
      "execution_count": 46,
      "outputs": [
        {
          "output_type": "stream",
          "name": "stdout",
          "text": [
            "Game Over!\n"
          ]
        },
        {
          "output_type": "error",
          "ename": "SystemExit",
          "evalue": "ignored",
          "traceback": [
            "An exception has occurred, use %tb to see the full traceback.\n",
            "\u001b[0;31mSystemExit\u001b[0m\n"
          ]
        },
        {
          "output_type": "stream",
          "name": "stderr",
          "text": [
            "/usr/local/lib/python3.10/dist-packages/IPython/core/interactiveshell.py:3561: UserWarning: To exit: use 'exit', 'quit', or Ctrl-D.\n",
            "  warn(\"To exit: use 'exit', 'quit', or Ctrl-D.\", stacklevel=1)\n"
          ]
        }
      ]
    },
    {
      "cell_type": "code",
      "source": [
        "import pygame\n",
        "import sys\n",
        "\n",
        "# Initialize Pygame\n",
        "pygame.init()\n",
        "\n",
        "# Set up the display\n",
        "width, height = 800, 600\n",
        "screen = pygame.display.set_mode((width, height))\n",
        "pygame.display.set_caption(\"Bouncing Ball Game\")\n",
        "\n",
        "# Set up colors\n",
        "black = (0, 0, 0)\n",
        "white = (255, 255, 255)\n",
        "\n",
        "# Set up the ball\n",
        "ball_radius = 20\n",
        "ball_x = width // 2\n",
        "ball_y = height // 2\n",
        "ball_speed_x = 5\n",
        "ball_speed_y = 5\n",
        "\n",
        "# Set up the paddle\n",
        "paddle_width = 100\n",
        "paddle_height = 20\n",
        "paddle_x = (width - paddle_width) // 2\n",
        "paddle_y = height - paddle_height - 10\n",
        "paddle_speed = 10\n",
        "\n",
        "# Main game loop\n",
        "while True:\n",
        "    for event in pygame.event.get():\n",
        "        if event.type == pygame.QUIT:\n",
        "            pygame.quit()\n",
        "            sys.exit()\n",
        "\n",
        "    # Move the paddle based on the keys\n",
        "    keys = pygame.key.get_pressed()\n",
        "    if keys[pygame.K_LEFT] and paddle_x > 0:\n",
        "        paddle_x -= paddle_speed\n",
        "    if keys[pygame.K_RIGHT] and paddle_x < width - paddle_width:\n",
        "        paddle_x += paddle_speed\n",
        "\n",
        "    # Move the ball\n",
        "    ball_x += ball_speed_x\n",
        "    ball_y += ball_speed_y\n",
        "\n",
        "    # Bounce the ball off the walls\n",
        "    if ball_x <= 0 or ball_x >= width - ball_radius * 2:\n",
        "        ball_speed_x = -ball_speed_x\n",
        "    if ball_y <= 0:\n",
        "        ball_speed_y = -ball_speed_y\n",
        "\n",
        "    # Bounce the ball off the paddle\n",
        "    if paddle_x <= ball_x <= paddle_x + paddle_width and paddle_y <= ball_y <= paddle_y + paddle_height:\n",
        "        ball_speed_y = -ball_speed_y\n",
        "\n",
        "    # Check if the ball fell off the bottom of the screen\n",
        "    if ball_y >= height:\n",
        "        # Reset the ball position\n",
        "        ball_x = width // 2\n",
        "        ball_y = height // 2\n",
        "\n",
        "    # Update the display\n",
        "    screen.fill(black)\n",
        "    pygame.draw.circle(screen, white, (ball_x, ball_y), ball_radius)\n",
        "    pygame.draw.rect(screen, white, (paddle_x, paddle_y, paddle_width, paddle_height))\n",
        "\n",
        "    pygame.display.flip()\n",
        "\n",
        "    # Cap the frame rate\n",
        "    pygame.time.Clock().tick(60)"
      ],
      "metadata": {
        "id": "vx3ZwqxCrZ38"
      },
      "execution_count": null,
      "outputs": []
    }
  ]
}